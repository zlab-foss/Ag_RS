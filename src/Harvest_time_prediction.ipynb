{
  "nbformat": 4,
  "nbformat_minor": 0,
  "metadata": {
    "colab": {
      "name": "Fanapp_Harvesttime",
      "provenance": [],
      "collapsed_sections": []
    },
    "kernelspec": {
      "name": "python3",
      "display_name": "Python 3"
    },
    "language_info": {
      "name": "python"
    }
  },
  "cells": [
    {
      "cell_type": "code",
      "execution_count": null,
      "metadata": {
        "id": "15qkuWLt6F5Z",
        "colab": {
          "base_uri": "https://localhost:8080/"
        },
        "outputId": "d2b6d46c-eb99-42b7-b039-68bc503abb8a"
      },
      "outputs": [
        {
          "output_type": "stream",
          "name": "stdout",
          "text": [
            "Drive already mounted at /content/drive; to attempt to forcibly remount, call drive.mount(\"/content/drive\", force_remount=True).\n",
            "Drive already mounted at /content/drive; to attempt to forcibly remount, call drive.mount(\"/content/drive\", force_remount=True).\n"
          ]
        }
      ],
      "source": [
        "import numpy as np\n",
        "import matplotlib.pyplot as plt\n",
        "import gdal\n",
        "import pandas as pd\n",
        "from google.colab import drive\n",
        "from datetime import date\n",
        "import glob as glob\n",
        "from scipy.interpolate import interp1d\n",
        "from scipy.misc import derivative\n",
        "from functools import reduce\n",
        "import numpy as np\n",
        "import matplotlib.pyplot as plt\n",
        "import gdal\n",
        "import pandas as pd\n",
        "from google.colab import drive\n",
        "from datetime import date\n",
        "\n",
        "\n",
        "drive.mount('/content/drive')\n",
        "filenames = glob.glob('/content/drive/Shareddrives/Alireza/Fanap/Fanapp_harvest_milad/*.csv')\n",
        "\n",
        "\n",
        "drive.mount('/content/drive')\n",
        "\n",
        "path_file1 = '/content/drive/Shareddrives/Alireza/Fanap/Final samples.xlsx'\n",
        "\n",
        "header = np.array(pd.read_excel(path_file1, header = None))\n",
        "\n",
        "### In this part, just main parts of the dates will be remained\n",
        "for i in range(header.shape[1]-2):\n",
        "  header[0,i] = header[0,i][0:8]\n",
        "\n",
        "header = header[:,8:]"
      ]
    },
    {
      "cell_type": "code",
      "source": [
        "def my_function(input_function_address):\n",
        "  path_file1 = input_function_address\n",
        "\n",
        "  data = np.array(pd.read_csv(path_file1, header = None))\n",
        "\n",
        "  ### In this part, just main parts of the dates will be remained\n",
        "  for i in range(data.shape[1]-2):\n",
        "    data[0,i] = data[0,i][0:8]\n",
        "\n",
        "  data_ref_withoutheader = data[1:,:].astype('float')\n",
        "  data_ref_withoutheader = np.delete(data_ref_withoutheader, np.where(data_ref_withoutheader[:,0]==11)[0], axis=0)\n",
        "  data_ref_withoutheader = np.delete(data_ref_withoutheader, np.where(data_ref_withoutheader[:,0]==10)[0], axis=0)\n",
        "  data_ref_withoutheader = np.delete(data_ref_withoutheader, np.where(data_ref_withoutheader[:,0]==9)[0], axis=0)\n",
        "  data_ref_withoutheader = np.delete(data_ref_withoutheader, np.where(data_ref_withoutheader[:,0]==8)[0], axis=0)\n",
        "  # sorted_array = data_ref_withoutheader[np.argsort(data_ref_withoutheader[:, 0])]\n",
        "\n",
        "  # np.where(sorted_array[:,0]==11)\n",
        "\n",
        "  newdata = data_ref_withoutheader[:,8:]\n",
        "  newdata = np.vstack((header[0,:], newdata))\n",
        "\n",
        "  # Here we compute number of days interval\n",
        "  d0 = date(int(newdata[0,0][0:4]), int(newdata[0,0][4:6]), int(newdata[0,0][6:8]))\n",
        "  d1 = date(int(newdata[0,-3][0:4]), int(newdata[0,-3][4:6]),  int(newdata[0,-3][6:8]))\n",
        "  delta = d1 - d0\n",
        "  diff_firstdate_enddate = delta.days\n",
        "\n",
        "  # We want to interpolate daily on X\n",
        "  x = np.linspace(0, diff_firstdate_enddate, num = diff_firstdate_enddate+1).astype(int)\n",
        "\n",
        "  # Our daates based on daily X: X-scaled\n",
        "  x_scaled = []\n",
        "  for i in range(newdata.shape[1]-2):\n",
        "    d0 = date(int(newdata[0,0][0:4]), int(newdata[0,0][4:6]), int(newdata[0,0][6:8]))\n",
        "    d1 = date(int(newdata[0,i][0:4]), int(newdata[0,i][4:6]),  int(newdata[0,i][6:8]))\n",
        "    delta = d1 - d0\n",
        "    x_scaled.append(delta.days)\n",
        "\n",
        "  x_scaled = np.array(x_scaled)\n",
        "\n",
        "  maxdays = x[-1]\n",
        "  mindays = x[0]\n",
        "\n",
        "  Kasht_harvest = np.zeros((newdata.shape[0]-1, 2))\n",
        "  y = np.zeros((newdata.shape[0]-1, x.shape[0]))\n",
        "  for i in range(newdata.shape[0]-1):\n",
        "    Y_scaled = newdata[i+1, :-2].astype('float')\n",
        "    where_is_nan = np.isnan(newdata[i+1, :-2].astype('float'))\n",
        "    datanew = Y_scaled[~where_is_nan]\n",
        "    x_scaled_new = x_scaled[~where_is_nan]\n",
        "\n",
        "    X_std = (datanew - np.min(datanew)) / (np.max(datanew) - np.min(datanew))\n",
        "    datanew = X_std * (maxdays - mindays) + mindays\n",
        "\n",
        "    f = interp1d(x_scaled_new, datanew, kind = 'cubic')\n",
        "    y[i, :] = f(x)\n",
        "\n",
        "  return y"
      ],
      "metadata": {
        "id": "xle8rwgxNURM"
      },
      "execution_count": null,
      "outputs": []
    },
    {
      "cell_type": "code",
      "source": [
        "y1 = my_function(filenames[0])\n",
        "y2 = my_function(filenames[1])\n",
        "y3 = my_function(filenames[2])\n",
        "y4 = my_function(filenames[3])\n",
        "y5 = my_function(filenames[4])\n",
        "y6 = my_function(filenames[5])\n",
        "y7 = my_function(filenames[6])\n",
        "y8 = my_function(filenames[7])\n",
        "y9 = my_function(filenames[8])"
      ],
      "metadata": {
        "id": "xRjGw9svMNCU"
      },
      "execution_count": null,
      "outputs": []
    },
    {
      "cell_type": "code",
      "source": [
        "filenames[3]"
      ],
      "metadata": {
        "colab": {
          "base_uri": "https://localhost:8080/",
          "height": 35
        },
        "id": "KO0GlOAQSdl7",
        "outputId": "6c787215-d34d-4717-ea6d-c6f4c13394c2"
      },
      "execution_count": null,
      "outputs": [
        {
          "output_type": "execute_result",
          "data": {
            "application/vnd.google.colaboratory.intrinsic+json": {
              "type": "string"
            },
            "text/plain": [
              "'/content/drive/Shareddrives/Alireza/Fanap/Fanapp_harvest_milad/GT_shahrak_ndre3.csv'"
            ]
          },
          "metadata": {},
          "execution_count": 4
        }
      ]
    },
    {
      "cell_type": "code",
      "source": [
        "import numpy as np\n",
        "import matplotlib.pyplot as plt\n",
        "import gdal\n",
        "import pandas as pd\n",
        "from google.colab import drive\n",
        "from datetime import date\n",
        "\n",
        "drive.mount('/content/drive')\n",
        "\n",
        "path_file1 = filenames[3]\n",
        "\n",
        "data = np.array(pd.read_csv(path_file1, header = None))\n",
        "\n",
        "### In this part, just main parts of the dates will be remained\n",
        "for i in range(data.shape[1]-2):\n",
        "  data[0,i] = data[0,i][0:8]\n",
        "\n",
        "import numpy as np\n",
        "import matplotlib.pyplot as plt\n",
        "import gdal\n",
        "import pandas as pd\n",
        "from google.colab import drive\n",
        "from datetime import date\n",
        "\n",
        "drive.mount('/content/drive')\n",
        "\n",
        "path_file1 = '/content/drive/Shareddrives/Alireza/Fanap/Final samples.xlsx'\n",
        "\n",
        "header = np.array(pd.read_excel(path_file1, header = None))\n",
        "\n",
        "### In this part, just main parts of the dates will be remained\n",
        "for i in range(header.shape[1]-2):\n",
        "  header[0,i] = header[0,i][0:8]\n",
        "\n",
        "header = header[:,8:]\n",
        "\n",
        "data_ref_withoutheader = data[1:,:].astype('float')\n",
        "data_ref_withoutheader = np.delete(data_ref_withoutheader, np.where(data_ref_withoutheader[:,0]==11)[0], axis=0)\n",
        "data_ref_withoutheader = np.delete(data_ref_withoutheader, np.where(data_ref_withoutheader[:,0]==10)[0], axis=0)\n",
        "data_ref_withoutheader = np.delete(data_ref_withoutheader, np.where(data_ref_withoutheader[:,0]==9)[0], axis=0)\n",
        "data_ref_withoutheader = np.delete(data_ref_withoutheader, np.where(data_ref_withoutheader[:,0]==8)[0], axis=0)\n",
        "# sorted_array = data_ref_withoutheader[np.argsort(data_ref_withoutheader[:, 0])]\n",
        "\n",
        "# np.where(sorted_array[:,0]==11)\n",
        "\n",
        "newdata = data_ref_withoutheader[:,8:]\n",
        "newdata = np.vstack((header[0,:], newdata))\n",
        "\n",
        "# ## Here I put the first 7 Time series aside, start from 20201009\n",
        "# IDs = data[:94,0]\n",
        "# newdata = data[:94,8:]\n",
        "\n",
        "# Here we compute number of days interval\n",
        "d0 = date(int(newdata[0,0][0:4]), int(newdata[0,0][4:6]), int(newdata[0,0][6:8]))\n",
        "d1 = date(int(newdata[0,-3][0:4]), int(newdata[0,-3][4:6]),  int(newdata[0,-3][6:8]))\n",
        "delta = d1 - d0\n",
        "diff_firstdate_enddate = delta.days\n",
        "\n",
        "# We want to interpolate daily on X\n",
        "x = np.linspace(0, diff_firstdate_enddate, num = diff_firstdate_enddate+1).astype(int)\n",
        "\n",
        "# Our daates based on daily X: X-scaled\n",
        "x_scaled = []\n",
        "for i in range(newdata.shape[1]-2):\n",
        "  d0 = date(int(newdata[0,0][0:4]), int(newdata[0,0][4:6]), int(newdata[0,0][6:8]))\n",
        "  d1 = date(int(newdata[0,i][0:4]), int(newdata[0,i][4:6]),  int(newdata[0,i][6:8]))\n",
        "  delta = d1 - d0\n",
        "  x_scaled.append(delta.days)\n",
        "\n",
        "x_scaled = np.array(x_scaled)\n",
        "\n",
        "from scipy.interpolate import interp1d\n",
        "from scipy.misc import derivative\n",
        "from functools import reduce\n",
        "\n",
        "maxdays = x[-1]\n",
        "mindays = x[0]\n",
        "\n",
        "Kasht_harvest = np.zeros((newdata.shape[0]-1, 2))\n",
        "y = np.zeros((newdata.shape[0]-1, x.shape[0]))\n",
        "for i in range(newdata.shape[0]-1):\n",
        "  Y_scaled = newdata[i+1, :-2].astype('float')\n",
        "  where_is_nan = np.isnan(newdata[i+1, :-2].astype('float'))\n",
        "  datanew = Y_scaled[~where_is_nan]\n",
        "  x_scaled_new = x_scaled[~where_is_nan]\n",
        "\n",
        "  X_std = (datanew - np.min(datanew)) / (np.max(datanew) - np.min(datanew))\n",
        "  datanew = X_std * (maxdays - mindays) + mindays\n",
        "\n",
        "  f = interp1d(x_scaled_new, datanew, kind = 'cubic')\n",
        "  y[i, :] = f(x)\n",
        "\n",
        "  first_der = derivative(f, x[1:-1], dx=1e-6, n = 1)\n",
        "  sec_der = derivative(f, x[2:-2], dx=1e-6, n = 2)\n",
        "\n",
        "\n",
        "  max_argument = np.argmax(y[i, :])\n",
        "\n",
        "  Th_first_der = 0.5\n",
        "  Th_ndvi1 = 100\n",
        "  Th_ndvi2 = 100\n",
        "\n",
        "  id1 = np.where(abs(first_der[max_argument:]) < Th_first_der)\n",
        "  id2 = np.where(sec_der[max_argument:] > 0)\n",
        "  id3 = np.where(y[i, max_argument:] < Th_ndvi1)\n",
        "\n",
        "  id4 = np.where(abs(first_der[:max_argument]) < Th_first_der)\n",
        "  id5 = np.where(sec_der[:max_argument] > 0)\n",
        "  id6 = np.where(y[i, :max_argument] < Th_ndvi2)\n",
        "\n",
        "  if reduce(np.intersect1d, (id4, id5, id6)).shape[0]==0:\n",
        "    continue\n",
        "  if reduce(np.intersect1d, (id1, id2, id3)).shape[0]==0:\n",
        "    continue\n",
        "\n",
        "  print(i)\n",
        "  Kasht_harvest[i,1] = reduce(np.intersect1d, (id1, id2, id3))[0] + max_argument\n",
        "  Kasht_harvest[i,0] = reduce(np.intersect1d, (id4, id5, id6))[-1]\n",
        "\n",
        "Kasht_harvest[3,0] = 125\n",
        "Kasht_harvest[5,0] = 125\n",
        "Kasht_harvest[9,0] = 125\n",
        "Kasht_harvest[10,0] = 125\n",
        "Kasht_harvest[13,0] = 124\n",
        "\n",
        "Kasht_harvest[15,0] = 110\n",
        "Kasht_harvest[15,1] = 270\n",
        "\n",
        "Kasht_harvest[22,0] = 110\n",
        "Kasht_harvest[22,1] = 260\n",
        "\n",
        "Kasht_harvest[24,0] = 120\n",
        "\n",
        "Kasht_harvest[25,0] = 120\n",
        "Kasht_harvest[25,1] = 280\n",
        "\n",
        "Kasht_harvest[29,0] = 240\n",
        "\n",
        "Kasht_harvest[36,0] = 220\n",
        "Kasht_harvest[36,1] = 410\n",
        "\n",
        "Kasht_harvest[37,0] = 220\n",
        "Kasht_harvest[37,1] = 410\n",
        "\n",
        "Kasht_harvest[40,0] = 220\n",
        "Kasht_harvest[40,1] = 410\n",
        "\n",
        "Kasht_harvest[41,0] = 120\n",
        "Kasht_harvest[41,1] = 300\n",
        "\n",
        "Kasht_harvest[43,1] = 315\n",
        "\n",
        "Kasht_harvest[44,0] = 120\n",
        "Kasht_harvest[44,1] = 300\n",
        "\n",
        "Kasht_harvest[50,0] = 120\n",
        "Kasht_harvest[50,1] = 290\n",
        "\n",
        "Kasht_harvest[57,0] = 230\n",
        "\n",
        "Kasht_harvest[59,1] = 360\n",
        "\n",
        "Kasht_harvest[61,0] = 120\n",
        "Kasht_harvest[61,1] = 320\n",
        "\n",
        "Kasht_harvest[64,0] = 120\n",
        "Kasht_harvest[64,1] = 320\n",
        "\n",
        "Kasht_harvest[65,0] = 130\n",
        "Kasht_harvest[65,1] = 310\n",
        "\n",
        "Kasht_harvest[66,0] = 130\n",
        "Kasht_harvest[66,1] = 310\n",
        "\n",
        "Kasht_harvest[67,1] = 280\n",
        "\n",
        "Kasht_harvest[69,0] = 120\n",
        "\n",
        "Kasht_harvest[71,0] = 130\n",
        "Kasht_harvest[71,1] = 300\n",
        "\n",
        "Kasht_harvest[83,0] = 260\n",
        "\n",
        "Kasht_harvest[85,0] = 270\n",
        "\n",
        "Kasht_harvest[89,1] = 400\n",
        "\n",
        "Kasht_harvest[92,1] = 390\n",
        "\n",
        "from datetime import date, timedelta\n",
        "\n",
        "specific_date = date(int(newdata[0,0][0:4]), int(newdata[0,0][4:6]), int(newdata[0,0][6:]))\n",
        "# specific_date = date(2011, 10, 10)\n",
        "\n",
        "Kasht_date = []\n",
        "harvest_date = []\n",
        "for i in range(Kasht_harvest.shape[0]):\n",
        "  # Kasht_date_computed = specific_date + timedelta(days = int(Kasht_harvest[i,0]))\n",
        "  # harvest_date_computed = specific_date + timedelta(days = int(Kasht_harvest[i,1]))\n",
        "  Kasht_date.append(specific_date + timedelta(days = int(Kasht_harvest[i,0])))\n",
        "  harvest_date.append(specific_date + timedelta(days = int(Kasht_harvest[i,1])))\n",
        "\n",
        "print(Kasht_date)"
      ],
      "metadata": {
        "id": "rPcBAgeaSVsD"
      },
      "execution_count": null,
      "outputs": []
    },
    {
      "cell_type": "code",
      "source": [
        "# X = np.hstack((y1,y2,y3,y4,y5,y6,y7,y8))\n",
        "Y = Kasht_harvest[:,1]-Kasht_harvest[:,0]\n",
        "X = np.hstack((y1,y2,y3,y4,y5,y6,y7, y8, np.reshape(Y, (-1,1))))"
      ],
      "metadata": {
        "colab": {
          "base_uri": "https://localhost:8080/"
        },
        "id": "tLSbHSM2TAel",
        "outputId": "7822910f-ae3e-422d-e123-d57984b4cbe3"
      },
      "execution_count": null,
      "outputs": [
        {
          "output_type": "execute_result",
          "data": {
            "text/plain": [
              "(93, 3329)"
            ]
          },
          "metadata": {},
          "execution_count": 13
        }
      ]
    },
    {
      "cell_type": "code",
      "source": [
        "from sklearn.svm import SVR\n",
        "from sklearn.pipeline import make_pipeline\n",
        "from sklearn.preprocessing import StandardScaler\n",
        "import numpy as np\n",
        "from sklearn.metrics import mean_squared_error\n",
        "\n",
        "\n",
        "\n",
        "\n",
        "Y = Kasht_harvest[:,1]-Kasht_harvest[:,0]\n",
        "# X = np.hstack((y1,y2,y3,y4,y5,y6,y7,y8))\n",
        "X = y5\n",
        "regr = SVR(C=100.0, epsilon=0.2)\n",
        "regr.fit(X, Y)\n",
        "\n",
        "YY = regr.predict(X)\n",
        "\n",
        "mean_squared_error(YY, Y, squared=False)"
      ],
      "metadata": {
        "colab": {
          "base_uri": "https://localhost:8080/"
        },
        "id": "Xaci9jcpPZd0",
        "outputId": "b358e0ab-da4c-458b-8e84-eee388bfccb4"
      },
      "execution_count": null,
      "outputs": [
        {
          "output_type": "execute_result",
          "data": {
            "text/plain": [
              "17.362405219967716"
            ]
          },
          "metadata": {},
          "execution_count": 36
        }
      ]
    },
    {
      "cell_type": "code",
      "source": [
        "from scipy.interpolate import interp1d\n",
        "from scipy.misc import derivative\n",
        "from functools import reduce\n",
        "\n",
        "maxdays = x[-1]\n",
        "mindays = x[0]\n",
        "\n",
        "Kasht_harvest = np.zeros((newdata.shape[0]-1, 2))\n",
        "y = np.zeros((newdata.shape[0]-1, x.shape[0]))\n",
        "for i in range(newdata.shape[0]-1):\n",
        "  Y_scaled = newdata[i+1, :-2].astype('float')\n",
        "  where_is_nan = np.isnan(newdata[i+1, :-2].astype('float'))\n",
        "  datanew = Y_scaled[~where_is_nan]\n",
        "  x_scaled_new = x_scaled[~where_is_nan]\n",
        "\n",
        "  X_std = (datanew - np.min(datanew)) / (np.max(datanew) - np.min(datanew))\n",
        "  datanew = X_std * (maxdays - mindays) + mindays\n",
        "\n",
        "  f = interp1d(x_scaled_new, datanew, kind = 'cubic')\n",
        "  y[i, :] = f(x)\n",
        "\n",
        "  first_der = derivative(f, x[1:-1], dx=1e-6, n = 1)\n",
        "  sec_der = derivative(f, x[2:-2], dx=1e-6, n = 2)\n",
        "\n",
        "\n",
        "  max_argument = np.argmax(y[i, :])\n",
        "\n",
        "  Th_first_der = 0.5\n",
        "  Th_ndvi1 = 100\n",
        "  Th_ndvi2 = 100\n",
        "\n",
        "  id1 = np.where(abs(first_der[max_argument:]) < Th_first_der)\n",
        "  id2 = np.where(sec_der[max_argument:] > 0)\n",
        "  id3 = np.where(y[i, max_argument:] < Th_ndvi1)\n",
        "\n",
        "  id4 = np.where(abs(first_der[:max_argument]) < Th_first_der)\n",
        "  id5 = np.where(sec_der[:max_argument] > 0)\n",
        "  id6 = np.where(y[i, :max_argument] < Th_ndvi2)\n",
        "\n",
        "  if reduce(np.intersect1d, (id4, id5, id6)).shape[0]==0:\n",
        "    continue\n",
        "  if reduce(np.intersect1d, (id1, id2, id3)).shape[0]==0:\n",
        "    continue\n",
        "\n",
        "  print(i)\n",
        "  Kasht_harvest[i,1] = reduce(np.intersect1d, (id1, id2, id3))[0] + max_argument\n",
        "  Kasht_harvest[i,0] = reduce(np.intersect1d, (id4, id5, id6))[-1]\n",
        "\n",
        "Kasht_harvest[3,0] = 125\n",
        "Kasht_harvest[5,0] = 125\n",
        "Kasht_harvest[9,0] = 125\n",
        "Kasht_harvest[10,0] = 125\n",
        "Kasht_harvest[13,0] = 124\n",
        "\n",
        "Kasht_harvest[15,0] = 110\n",
        "Kasht_harvest[15,1] = 270\n",
        "\n",
        "Kasht_harvest[22,0] = 110\n",
        "Kasht_harvest[22,1] = 260\n",
        "\n",
        "Kasht_harvest[24,0] = 120\n",
        "\n",
        "Kasht_harvest[25,0] = 120\n",
        "Kasht_harvest[25,1] = 280\n",
        "\n",
        "Kasht_harvest[29,0] = 240\n",
        "\n",
        "Kasht_harvest[36,0] = 220\n",
        "Kasht_harvest[36,1] = 410\n",
        "\n",
        "Kasht_harvest[37,0] = 220\n",
        "Kasht_harvest[37,1] = 410\n",
        "\n",
        "Kasht_harvest[40,0] = 220\n",
        "Kasht_harvest[40,1] = 410\n",
        "\n",
        "Kasht_harvest[41,0] = 120\n",
        "Kasht_harvest[41,1] = 300\n",
        "\n",
        "Kasht_harvest[43,1] = 315\n",
        "\n",
        "Kasht_harvest[44,0] = 120\n",
        "Kasht_harvest[44,1] = 300\n",
        "\n",
        "Kasht_harvest[50,0] = 120\n",
        "Kasht_harvest[50,1] = 290\n",
        "\n",
        "Kasht_harvest[57,0] = 230\n",
        "\n",
        "Kasht_harvest[59,1] = 360\n",
        "\n",
        "Kasht_harvest[61,0] = 120\n",
        "Kasht_harvest[61,1] = 320\n",
        "\n",
        "Kasht_harvest[64,0] = 120\n",
        "Kasht_harvest[64,1] = 320\n",
        "\n",
        "Kasht_harvest[65,0] = 130\n",
        "Kasht_harvest[65,1] = 310\n",
        "\n",
        "Kasht_harvest[66,0] = 130\n",
        "Kasht_harvest[66,1] = 310\n",
        "\n",
        "Kasht_harvest[67,1] = 280\n",
        "\n",
        "Kasht_harvest[69,0] = 120\n",
        "\n",
        "Kasht_harvest[71,0] = 130\n",
        "Kasht_harvest[71,1] = 300\n",
        "\n",
        "Kasht_harvest[83,0] = 260\n",
        "\n",
        "Kasht_harvest[85,0] = 270\n",
        "\n",
        "Kasht_harvest[89,1] = 400\n",
        "\n",
        "Kasht_harvest[92,1] = 390\n"
      ],
      "metadata": {
        "id": "OcrT7qomSFqF"
      },
      "execution_count": null,
      "outputs": []
    },
    {
      "cell_type": "code",
      "source": [
        "from datetime import date, timedelta\n",
        "\n",
        "specific_date = date(int(newdata[0,0][0:4]), int(newdata[0,0][4:6]), int(newdata[0,0][6:]))\n",
        "# specific_date = date(2011, 10, 10)\n",
        "\n",
        "Kasht_date = []\n",
        "harvest_date = []\n",
        "for i in range(Kasht_harvest.shape[0]):\n",
        "  # Kasht_date_computed = specific_date + timedelta(days = int(Kasht_harvest[i,0]))\n",
        "  # harvest_date_computed = specific_date + timedelta(days = int(Kasht_harvest[i,1]))\n",
        "  Kasht_date.append(specific_date + timedelta(days = int(Kasht_harvest[i,0])))\n",
        "  harvest_date.append(specific_date + timedelta(days = int(Kasht_harvest[i,1])))\n",
        "\n",
        "print(Kasht_date)"
      ],
      "metadata": {
        "colab": {
          "base_uri": "https://localhost:8080/"
        },
        "id": "jIshWmwHhnpi",
        "outputId": "4854a5ed-a12d-4d8c-93d5-5c3dac9f2f1f"
      },
      "execution_count": null,
      "outputs": [
        {
          "output_type": "stream",
          "name": "stdout",
          "text": [
            "[datetime.date(2021, 2, 6), datetime.date(2021, 3, 27), datetime.date(2021, 2, 15), datetime.date(2021, 2, 11), datetime.date(2021, 2, 11), datetime.date(2021, 2, 11), datetime.date(2021, 2, 17), datetime.date(2021, 2, 13), datetime.date(2021, 2, 14), datetime.date(2021, 2, 11), datetime.date(2021, 2, 11), datetime.date(2021, 2, 9), datetime.date(2021, 2, 13), datetime.date(2021, 2, 10), datetime.date(2021, 2, 13), datetime.date(2021, 1, 27), datetime.date(2021, 2, 18), datetime.date(2021, 2, 2), datetime.date(2021, 2, 14), datetime.date(2021, 1, 28), datetime.date(2021, 2, 9), datetime.date(2020, 11, 2), datetime.date(2021, 1, 27), datetime.date(2020, 11, 2), datetime.date(2021, 2, 6), datetime.date(2021, 2, 6), datetime.date(2021, 2, 13), datetime.date(2021, 4, 30), datetime.date(2021, 2, 21), datetime.date(2021, 6, 6), datetime.date(2021, 5, 28), datetime.date(2021, 6, 15), datetime.date(2021, 5, 20), datetime.date(2021, 5, 14), datetime.date(2021, 5, 31), datetime.date(2021, 5, 16), datetime.date(2021, 5, 17), datetime.date(2021, 5, 17), datetime.date(2021, 5, 7), datetime.date(2021, 5, 27), datetime.date(2021, 5, 17), datetime.date(2021, 2, 6), datetime.date(2021, 2, 10), datetime.date(2021, 2, 14), datetime.date(2021, 2, 6), datetime.date(2021, 2, 15), datetime.date(2021, 2, 12), datetime.date(2020, 11, 4), datetime.date(2021, 1, 13), datetime.date(2021, 2, 12), datetime.date(2021, 2, 6), datetime.date(2021, 6, 15), datetime.date(2021, 5, 29), datetime.date(2021, 6, 7), datetime.date(2021, 6, 4), datetime.date(2021, 6, 7), datetime.date(2021, 6, 2), datetime.date(2021, 5, 27), datetime.date(2021, 6, 1), datetime.date(2021, 6, 24), datetime.date(2021, 2, 11), datetime.date(2021, 2, 6), datetime.date(2021, 1, 21), datetime.date(2021, 2, 28), datetime.date(2021, 2, 6), datetime.date(2021, 2, 16), datetime.date(2021, 2, 16), datetime.date(2021, 1, 11), datetime.date(2021, 2, 13), datetime.date(2021, 2, 6), datetime.date(2021, 4, 6), datetime.date(2021, 2, 16), datetime.date(2021, 2, 18), datetime.date(2021, 6, 9), datetime.date(2021, 6, 12), datetime.date(2021, 6, 26), datetime.date(2021, 7, 9), datetime.date(2021, 7, 10), datetime.date(2021, 6, 6), datetime.date(2021, 6, 6), datetime.date(2021, 6, 15), datetime.date(2021, 6, 6), datetime.date(2021, 6, 14), datetime.date(2021, 6, 26), datetime.date(2021, 6, 28), datetime.date(2021, 7, 6), datetime.date(2021, 6, 27), datetime.date(2021, 6, 24), datetime.date(2021, 6, 15), datetime.date(2021, 7, 8), datetime.date(2021, 6, 29), datetime.date(2021, 5, 24), datetime.date(2021, 7, 3)]\n"
          ]
        }
      ]
    },
    {
      "cell_type": "code",
      "source": [
        "y.shape"
      ],
      "metadata": {
        "id": "tIc1bv4ziUGf"
      },
      "execution_count": null,
      "outputs": []
    },
    {
      "cell_type": "code",
      "source": [
        "from sklearn.svm import SVR\n",
        "from sklearn.pipeline import make_pipeline\n",
        "from sklearn.preprocessing import StandardScaler\n",
        "import numpy as np\n",
        "from sklearn.metrics import mean_squared_error\n",
        "\n",
        "\n",
        "\n",
        "n_samples, n_features = y.shape[0], y.shape[1]\n",
        "\n",
        "Y = Kasht_harvest[:,1]-Kasht_harvest[:,0]\n",
        "X = y\n",
        "regr = SVR(C=1.0, epsilon=0.2)\n",
        "regr.fit(X, Y)\n",
        "\n",
        "YY = regr.predict(X)\n",
        "\n",
        "mean_squared_error(YY, Y, squared=False)"
      ],
      "metadata": {
        "id": "7Qmz0FCnhsNJ"
      },
      "execution_count": null,
      "outputs": []
    },
    {
      "cell_type": "code",
      "source": [
        "Kasht_harvest"
      ],
      "metadata": {
        "id": "F9bcwhEcYndm"
      },
      "execution_count": null,
      "outputs": []
    },
    {
      "cell_type": "code",
      "source": [
        "id = 92\n",
        "plt.scatter(int(Kasht_harvest[id,0]), y[id, int(Kasht_harvest[id,0])])\n",
        "plt.scatter(int(Kasht_harvest[id,1]), y[id, int(Kasht_harvest[id,1])])\n",
        "plt.plot(x, y[id,:])"
      ],
      "metadata": {
        "colab": {
          "base_uri": "https://localhost:8080/",
          "height": 282
        },
        "id": "HdlwfaWIV8j-",
        "outputId": "8b657032-289c-4c12-afd8-b7d13d72ad40"
      },
      "execution_count": null,
      "outputs": [
        {
          "output_type": "execute_result",
          "data": {
            "text/plain": [
              "[<matplotlib.lines.Line2D at 0x7f76e0e73cd0>]"
            ]
          },
          "metadata": {},
          "execution_count": 7
        },
        {
          "output_type": "display_data",
          "data": {
            "image/png": "[encoded data removed]",
            "text/plain": [
              "<Figure size 432x288 with 1 Axes>"
            ]
          },
          "metadata": {
            "needs_background": "light"
          }
        }
      ]
    },
    {
      "cell_type": "code",
      "source": [
        "plt.plot(x_scaled, newdata[id+1,:-2])\n",
        "plt.scatter(int(Kasht_harvest[id,0]), 0.1)\n",
        "plt.scatter(int(Kasht_harvest[id,1]), 0.1)"
      ],
      "metadata": {
        "colab": {
          "base_uri": "https://localhost:8080/",
          "height": 282
        },
        "id": "fWJu4-3hBvmV",
        "outputId": "331048d0-ff99-4ef1-c96c-611bbe2c5ed7"
      },
      "execution_count": null,
      "outputs": [
        {
          "output_type": "execute_result",
          "data": {
            "text/plain": [
              "<matplotlib.collections.PathCollection at 0x7f76e09672d0>"
            ]
          },
          "metadata": {},
          "execution_count": 8
        },
        {
          "output_type": "display_data",
          "data": {
            "image/png": "[encoded data removed]",
            "text/plain": [
              "<Figure size 432x288 with 1 Axes>"
            ]
          },
          "metadata": {
            "needs_background": "light"
          }
        }
      ]
    },
    {
      "cell_type": "code",
      "source": [
        "Kasht_harvest[3,0] = 125\n",
        "Kasht_harvest[5,0] = 125\n",
        "Kasht_harvest[9,0] = 125\n",
        "Kasht_harvest[10,0] = 125\n",
        "Kasht_harvest[13,0] = 124\n",
        "\n",
        "Kasht_harvest[15,0] = 110\n",
        "Kasht_harvest[15,1] = 270\n",
        "\n",
        "Kasht_harvest[22,0] = 110\n",
        "Kasht_harvest[22,1] = 260\n",
        "\n",
        "Kasht_harvest[24,0] = 120\n",
        "\n",
        "Kasht_harvest[25,0] = 120\n",
        "Kasht_harvest[25,1] = 280\n",
        "\n",
        "Kasht_harvest[29,0] = 240\n",
        "\n",
        "Kasht_harvest[36,0] = 220\n",
        "Kasht_harvest[36,1] = 410\n",
        "\n",
        "Kasht_harvest[37,0] = 220\n",
        "Kasht_harvest[37,1] = 410\n",
        "\n",
        "Kasht_harvest[40,0] = 220\n",
        "Kasht_harvest[40,1] = 410\n",
        "\n",
        "Kasht_harvest[41,0] = 120\n",
        "Kasht_harvest[41,1] = 300\n",
        "\n",
        "Kasht_harvest[43,1] = 315\n",
        "\n",
        "Kasht_harvest[44,0] = 120\n",
        "Kasht_harvest[44,1] = 300\n",
        "\n",
        "Kasht_harvest[50,0] = 120\n",
        "Kasht_harvest[50,1] = 290\n",
        "\n",
        "Kasht_harvest[57,0] = 230\n",
        "\n",
        "Kasht_harvest[59,1] = 360\n",
        "\n",
        "Kasht_harvest[61,0] = 120\n",
        "Kasht_harvest[61,1] = 320\n",
        "\n",
        "Kasht_harvest[64,0] = 120\n",
        "Kasht_harvest[64,1] = 320\n",
        "\n",
        "Kasht_harvest[65,0] = 130\n",
        "Kasht_harvest[65,1] = 310\n",
        "\n",
        "Kasht_harvest[66,0] = 130\n",
        "Kasht_harvest[66,1] = 310\n",
        "\n",
        "Kasht_harvest[67,1] = 280\n",
        "\n",
        "Kasht_harvest[69,0] = 120\n",
        "\n",
        "Kasht_harvest[71,0] = 130\n",
        "Kasht_harvest[71,1] = 300\n",
        "\n",
        "Kasht_harvest[83,0] = 260\n",
        "\n",
        "Kasht_harvest[85,0] = 270\n",
        "\n",
        "Kasht_harvest[89,1] = 400\n",
        "\n",
        "Kasht_harvest[92,1] = 390\n"
      ],
      "metadata": {
        "id": "htiCAhUURHYR"
      },
      "execution_count": null,
      "outputs": []
    },
    {
      "cell_type": "code",
      "source": [
        "int(Kasht_harvest[0,0])"
      ],
      "metadata": {
        "colab": {
          "base_uri": "https://localhost:8080/"
        },
        "id": "Zsn6KdWWeehL",
        "outputId": "6bdd4d78-cded-4156-a98c-f9ad45d23f88"
      },
      "execution_count": null,
      "outputs": [
        {
          "output_type": "execute_result",
          "data": {
            "text/plain": [
              "120"
            ]
          },
          "metadata": {},
          "execution_count": 10
        }
      ]
    },
    {
      "cell_type": "code",
      "source": [
        "from datetime import date, timedelta\n",
        "date1 = date(2011, 10, 10)\n",
        "date2 = date1 + timedelta(days=5)\n",
        "print (date2)"
      ],
      "metadata": {
        "colab": {
          "base_uri": "https://localhost:8080/"
        },
        "id": "JLi_6Zjmbg5o",
        "outputId": "4e6b0ed6-de7c-4d6b-e4e6-9d0ba93e28b6"
      },
      "execution_count": null,
      "outputs": [
        {
          "output_type": "stream",
          "name": "stdout",
          "text": [
            "2011-10-15\n"
          ]
        }
      ]
    },
    {
      "cell_type": "code",
      "source": [
        "from datetime import date, timedelta\n",
        "\n",
        "specific_date = date(int(newdata[0,0][0:4]), int(newdata[0,0][4:6]), int(newdata[0,0][6:]))\n",
        "# specific_date = date(2011, 10, 10)\n",
        "\n",
        "Kasht_date = []\n",
        "harvest_date = []\n",
        "for i in range(Kasht_harvest.shape[0]):\n",
        "  # Kasht_date_computed = specific_date + timedelta(days = int(Kasht_harvest[i,0]))\n",
        "  # harvest_date_computed = specific_date + timedelta(days = int(Kasht_harvest[i,1]))\n",
        "  Kasht_date.append(specific_date + timedelta(days = int(Kasht_harvest[i,0])))\n",
        "  harvest_date.append(specific_date + timedelta(days = int(Kasht_harvest[i,1])))\n",
        "\n",
        "print(Kasht_date)"
      ],
      "metadata": {
        "colab": {
          "base_uri": "https://localhost:8080/"
        },
        "id": "2eLUBjVObI-0",
        "outputId": "7e3bfff0-a1a8-4a88-8ca6-bc77dde801c3"
      },
      "execution_count": null,
      "outputs": [
        {
          "output_type": "stream",
          "name": "stdout",
          "text": [
            "[datetime.date(2021, 2, 6), datetime.date(2021, 3, 27), datetime.date(2021, 2, 15), datetime.date(2021, 2, 11), datetime.date(2021, 2, 11), datetime.date(2021, 2, 11), datetime.date(2021, 2, 17), datetime.date(2021, 2, 13), datetime.date(2021, 2, 14), datetime.date(2021, 2, 11), datetime.date(2021, 2, 11), datetime.date(2021, 2, 9), datetime.date(2021, 2, 13), datetime.date(2021, 2, 10), datetime.date(2021, 2, 13), datetime.date(2021, 1, 27), datetime.date(2021, 2, 18), datetime.date(2021, 2, 2), datetime.date(2021, 2, 14), datetime.date(2021, 1, 28), datetime.date(2021, 2, 9), datetime.date(2020, 11, 2), datetime.date(2021, 1, 27), datetime.date(2020, 11, 2), datetime.date(2021, 2, 6), datetime.date(2021, 2, 6), datetime.date(2021, 2, 13), datetime.date(2021, 4, 30), datetime.date(2021, 2, 21), datetime.date(2021, 6, 6), datetime.date(2021, 5, 28), datetime.date(2021, 6, 15), datetime.date(2021, 5, 20), datetime.date(2021, 5, 14), datetime.date(2021, 5, 31), datetime.date(2021, 5, 16), datetime.date(2021, 5, 17), datetime.date(2021, 5, 17), datetime.date(2021, 5, 7), datetime.date(2021, 5, 27), datetime.date(2021, 5, 17), datetime.date(2021, 2, 6), datetime.date(2021, 2, 10), datetime.date(2021, 2, 14), datetime.date(2021, 2, 6), datetime.date(2021, 2, 15), datetime.date(2021, 2, 12), datetime.date(2020, 11, 4), datetime.date(2021, 1, 13), datetime.date(2021, 2, 12), datetime.date(2021, 2, 6), datetime.date(2021, 6, 15), datetime.date(2021, 5, 29), datetime.date(2021, 6, 7), datetime.date(2021, 6, 4), datetime.date(2021, 6, 7), datetime.date(2021, 6, 2), datetime.date(2021, 5, 27), datetime.date(2021, 6, 1), datetime.date(2021, 6, 24), datetime.date(2021, 2, 11), datetime.date(2021, 2, 6), datetime.date(2021, 1, 21), datetime.date(2021, 2, 28), datetime.date(2021, 2, 6), datetime.date(2021, 2, 16), datetime.date(2021, 2, 16), datetime.date(2021, 1, 11), datetime.date(2021, 2, 13), datetime.date(2021, 2, 6), datetime.date(2021, 4, 6), datetime.date(2021, 2, 16), datetime.date(2021, 2, 18), datetime.date(2021, 6, 9), datetime.date(2021, 6, 12), datetime.date(2021, 6, 26), datetime.date(2021, 7, 9), datetime.date(2021, 7, 10), datetime.date(2021, 6, 6), datetime.date(2021, 6, 6), datetime.date(2021, 6, 15), datetime.date(2021, 6, 6), datetime.date(2021, 6, 14), datetime.date(2021, 6, 26), datetime.date(2021, 6, 28), datetime.date(2021, 7, 6), datetime.date(2021, 6, 27), datetime.date(2021, 6, 24), datetime.date(2021, 6, 15), datetime.date(2021, 7, 8), datetime.date(2021, 6, 29), datetime.date(2021, 5, 24), datetime.date(2021, 7, 3)]\n"
          ]
        }
      ]
    },
    {
      "cell_type": "code",
      "source": [
        "print(harvest_date)"
      ],
      "metadata": {
        "colab": {
          "base_uri": "https://localhost:8080/"
        },
        "id": "n0ZK0XnmhJvz",
        "outputId": "37c0a87a-d007-4ba0-b102-8bf6e9c43787"
      },
      "execution_count": null,
      "outputs": [
        {
          "output_type": "stream",
          "name": "stdout",
          "text": [
            "[datetime.date(2021, 7, 12), datetime.date(2021, 7, 11), datetime.date(2021, 7, 28), datetime.date(2021, 7, 16), datetime.date(2021, 7, 2), datetime.date(2021, 7, 27), datetime.date(2021, 7, 13), datetime.date(2021, 7, 11), datetime.date(2021, 7, 7), datetime.date(2021, 7, 15), datetime.date(2021, 7, 14), datetime.date(2021, 7, 10), datetime.date(2021, 6, 28), datetime.date(2021, 7, 14), datetime.date(2021, 7, 13), datetime.date(2021, 7, 6), datetime.date(2021, 7, 19), datetime.date(2021, 7, 11), datetime.date(2021, 7, 31), datetime.date(2021, 7, 14), datetime.date(2021, 7, 10), datetime.date(2021, 7, 26), datetime.date(2021, 6, 26), datetime.date(2021, 8, 3), datetime.date(2021, 7, 25), datetime.date(2021, 7, 16), datetime.date(2021, 7, 15), datetime.date(2021, 11, 21), datetime.date(2021, 11, 13), datetime.date(2021, 11, 22), datetime.date(2021, 11, 6), datetime.date(2021, 11, 7), datetime.date(2021, 11, 9), datetime.date(2021, 10, 28), datetime.date(2021, 11, 8), datetime.date(2021, 11, 23), datetime.date(2021, 11, 23), datetime.date(2021, 11, 23), datetime.date(2021, 9, 25), datetime.date(2021, 11, 23), datetime.date(2021, 11, 23), datetime.date(2021, 8, 5), datetime.date(2021, 7, 29), datetime.date(2021, 8, 20), datetime.date(2021, 8, 5), datetime.date(2021, 6, 30), datetime.date(2021, 7, 2), datetime.date(2021, 7, 12), datetime.date(2021, 7, 13), datetime.date(2021, 8, 25), datetime.date(2021, 7, 26), datetime.date(2021, 10, 27), datetime.date(2021, 10, 13), datetime.date(2021, 9, 25), datetime.date(2021, 9, 18), datetime.date(2021, 10, 28), datetime.date(2021, 10, 12), datetime.date(2021, 10, 12), datetime.date(2021, 10, 12), datetime.date(2021, 10, 4), datetime.date(2021, 7, 31), datetime.date(2021, 8, 25), datetime.date(2021, 8, 21), datetime.date(2021, 7, 21), datetime.date(2021, 8, 25), datetime.date(2021, 8, 15), datetime.date(2021, 8, 15), datetime.date(2021, 7, 16), datetime.date(2021, 8, 18), datetime.date(2021, 7, 23), datetime.date(2021, 8, 8), datetime.date(2021, 8, 5), datetime.date(2021, 9, 4), datetime.date(2021, 10, 31), datetime.date(2021, 10, 5), datetime.date(2021, 10, 26), datetime.date(2021, 10, 24), datetime.date(2021, 10, 5), datetime.date(2021, 10, 12), datetime.date(2021, 10, 6), datetime.date(2021, 10, 13), datetime.date(2021, 10, 14), datetime.date(2021, 10, 11), datetime.date(2021, 10, 14), datetime.date(2021, 10, 14), datetime.date(2021, 11, 22), datetime.date(2021, 11, 1), datetime.date(2021, 11, 5), datetime.date(2021, 10, 30), datetime.date(2021, 11, 13), datetime.date(2021, 11, 2), datetime.date(2021, 9, 11), datetime.date(2021, 11, 3)]\n"
          ]
        }
      ]
    },
    {
      "cell_type": "code",
      "source": [
        "from sklearn.svm import SVR\n",
        "from sklearn.pipeline import make_pipeline\n",
        "from sklearn.preprocessing import StandardScaler\n",
        "import numpy as np\n",
        "n_samples, n_features = 10, 5\n",
        "rng = np.random.RandomState(0)\n",
        "y = rng.randn(n_samples)\n",
        "X = rng.randn(n_samples, n_features)\n",
        "regr = SVR(C=1.0, epsilon=0.2)\n",
        "regr.fit(X, y)"
      ],
      "metadata": {
        "colab": {
          "base_uri": "https://localhost:8080/"
        },
        "id": "Rc2wQO5tTTwy",
        "outputId": "096a5a52-8f63-44d6-9fa8-16184ff2f253"
      },
      "execution_count": null,
      "outputs": [
        {
          "output_type": "execute_result",
          "data": {
            "text/plain": [
              "SVR(epsilon=0.2)"
            ]
          },
          "metadata": {},
          "execution_count": 92
        }
      ]
    },
    {
      "cell_type": "code",
      "source": [
        "regr.predict(X)"
      ],
      "metadata": {
        "colab": {
          "base_uri": "https://localhost:8080/"
        },
        "id": "QJwbkbfuTZ3I",
        "outputId": "a5edd6a6-63fe-465b-d228-f1e860347c6a"
      },
      "execution_count": null,
      "outputs": [
        {
          "output_type": "execute_result",
          "data": {
            "text/plain": [
              "array([0.88099691, 0.60015717, 0.98428256, 1.8415426 , 0.89608502,\n",
              "       0.37926116, 1.03409696, 0.04864281, 0.33725189, 0.33745531])"
            ]
          },
          "metadata": {},
          "execution_count": 93
        }
      ]
    },
    {
      "cell_type": "code",
      "source": [
        "y"
      ],
      "metadata": {
        "colab": {
          "base_uri": "https://localhost:8080/"
        },
        "id": "QK9Mi_ubUAIK",
        "outputId": "4dd140db-8ab2-4a9f-b938-77a9dc352c85"
      },
      "execution_count": null,
      "outputs": [
        {
          "output_type": "execute_result",
          "data": {
            "text/plain": [
              "array([ 1.76405235,  0.40015721,  0.97873798,  2.2408932 ,  1.86755799,\n",
              "       -0.97727788,  0.95008842, -0.15135721, -0.10321885,  0.4105985 ])"
            ]
          },
          "metadata": {},
          "execution_count": 94
        }
      ]
    },
    {
      "cell_type": "code",
      "source": [
        "plt.plot(x, y[-1,:], x_scaled_new, datanew, 'r')"
      ],
      "metadata": {
        "colab": {
          "base_uri": "https://localhost:8080/",
          "height": 300
        },
        "id": "uBlKRnoRVrhZ",
        "outputId": "f1158c1d-ca15-4c86-ffd9-7124dba08588"
      },
      "execution_count": null,
      "outputs": [
        {
          "output_type": "execute_result",
          "data": {
            "text/plain": [
              "[<matplotlib.lines.Line2D at 0x7fdb1a19f8d0>,\n",
              " <matplotlib.lines.Line2D at 0x7fdb1a19fa90>]"
            ]
          },
          "metadata": {},
          "execution_count": 14
        },
        {
          "output_type": "display_data",
          "data": {
            "image/png": "[encoded data removed]",
            "text/plain": [
              "<Figure size 432x288 with 1 Axes>"
            ]
          },
          "metadata": {
            "needs_background": "light"
          }
        }
      ]
    },
    {
      "cell_type": "code",
      "source": [
        "where_is_nan.shape"
      ],
      "metadata": {
        "colab": {
          "base_uri": "https://localhost:8080/"
        },
        "id": "UFVToa34U1nR",
        "outputId": "506abb07-28f6-47bb-f724-8e5a6e7a6929"
      },
      "execution_count": null,
      "outputs": [
        {
          "output_type": "execute_result",
          "data": {
            "text/plain": [
              "(58,)"
            ]
          },
          "metadata": {},
          "execution_count": 6
        }
      ]
    },
    {
      "cell_type": "code",
      "source": [
        "x_scaled"
      ],
      "metadata": {
        "colab": {
          "base_uri": "https://localhost:8080/"
        },
        "id": "SW_IIjAIR4V0",
        "outputId": "4aabf29c-006e-4909-d389-9ed94907ac49"
      },
      "execution_count": null,
      "outputs": [
        {
          "output_type": "execute_result",
          "data": {
            "text/plain": [
              "array([  0,  15,  20,  35,  60,  65,  70,  75,  85, 110, 115, 130, 155,\n",
              "       180, 185, 190, 195, 200, 205, 210, 215, 220, 225, 230, 235, 240,\n",
              "       245, 250, 255, 260, 265, 270, 275, 280, 285, 290, 295, 305, 310,\n",
              "       315, 320, 325, 330, 335, 340, 345, 350, 355, 360, 365, 370, 375,\n",
              "       380, 390, 400, 405, 410, 415])"
            ]
          },
          "metadata": {},
          "execution_count": 30
        }
      ]
    },
    {
      "cell_type": "code",
      "source": [
        "d0 = date(int(data[0,1][0:4]), int(data[0,1][4:6]), int(data[0,1][6:8]))\n",
        "d1 = date(int(data[0,-3][0:4]), int(data[0,-3][4:6]),  int(data[0,-3][6:8]))\n",
        "delta = d1 - d0\n",
        "diff_firstdate_enddate = delta.days"
      ],
      "metadata": {
        "id": "7r7xzStdIh_E"
      },
      "execution_count": null,
      "outputs": []
    },
    {
      "cell_type": "code",
      "source": [
        "newdata.shape"
      ],
      "metadata": {
        "colab": {
          "base_uri": "https://localhost:8080/"
        },
        "id": "niSlcVgOI7bm",
        "outputId": "0ba6c805-7075-4ca3-9553-88f3c7862145"
      },
      "execution_count": null,
      "outputs": [
        {
          "output_type": "execute_result",
          "data": {
            "text/plain": [
              "(156, 60)"
            ]
          },
          "metadata": {},
          "execution_count": 15
        }
      ]
    },
    {
      "cell_type": "code",
      "source": [
        "x"
      ],
      "metadata": {
        "colab": {
          "base_uri": "https://localhost:8080/"
        },
        "id": "FrGHw8BSCA4p",
        "outputId": "bd5dd7ff-0302-411a-cf10-bc0544231225"
      },
      "execution_count": null,
      "outputs": [
        {
          "output_type": "execute_result",
          "data": {
            "text/plain": [
              "array([  0,   1,   2,   3,   4,   5,   6,   7,   8,   9,  10,  11,  12,\n",
              "        13,  14,  15,  16,  17,  18,  19,  20,  21,  22,  23,  24,  25,\n",
              "        26,  27,  28,  29,  30,  31,  32,  33,  34,  35,  36,  37,  38,\n",
              "        39,  40,  41,  42,  43,  44,  45,  46,  47,  48,  49,  50,  51,\n",
              "        52,  53,  54,  55,  56,  57,  58,  59,  60,  61,  62,  63,  64,\n",
              "        65,  66,  67,  68,  69,  70,  71,  72,  73,  74,  75,  76,  77,\n",
              "        78,  79,  80,  81,  82,  83,  84,  85,  86,  87,  88,  89,  90,\n",
              "        91,  92,  93,  94,  95,  96,  97,  98,  99, 100, 101, 102, 103,\n",
              "       104, 105, 106, 107, 108, 109, 110, 111, 112, 113, 114, 115, 116,\n",
              "       117, 118, 119, 120, 121, 122, 123, 124, 125, 126, 127, 128, 129,\n",
              "       130, 131, 132, 133, 134, 135, 136, 137, 138, 139, 140, 141, 142,\n",
              "       143, 144, 145, 146, 147, 148, 149, 150, 151, 152, 153, 154, 155,\n",
              "       156, 157, 158, 159, 160, 161, 162, 163, 164, 165, 166, 167, 168,\n",
              "       169, 170, 171, 172, 173, 174, 175, 176, 177, 178, 179, 180, 181,\n",
              "       182, 183, 184, 185, 186, 187, 188, 189, 190, 191, 192, 193, 194,\n",
              "       195, 196, 197, 198, 199, 200, 201, 202, 203, 204, 205, 206, 207,\n",
              "       208, 209, 210, 211, 212, 213, 214, 215, 216, 217, 218, 219, 220,\n",
              "       221, 222, 223, 224, 225, 226, 227, 228, 229, 230, 231, 232, 233,\n",
              "       234, 235, 236, 237, 238, 239, 240, 241, 242, 243, 244, 245, 246,\n",
              "       247, 248, 249, 250, 251, 252, 253, 254, 255, 256, 257, 258, 259,\n",
              "       260, 261, 262, 263, 264, 265, 266, 267, 268, 269, 270, 271, 272,\n",
              "       273, 274, 275, 276, 277, 278, 279, 280, 281, 282, 283, 284, 285,\n",
              "       286, 287, 288, 289, 290, 291, 292, 293, 294, 295, 296, 297, 298,\n",
              "       299, 300, 301, 302, 303, 304, 305, 306, 307, 308, 309, 310, 311,\n",
              "       312, 313, 314, 315, 316, 317, 318, 319, 320, 321, 322, 323, 324,\n",
              "       325, 326, 327, 328, 329, 330, 331, 332, 333, 334, 335, 336, 337,\n",
              "       338, 339, 340, 341, 342, 343, 344, 345, 346, 347, 348, 349, 350,\n",
              "       351, 352, 353, 354, 355, 356, 357, 358, 359, 360, 361, 362, 363,\n",
              "       364, 365, 366, 367, 368, 369, 370, 371, 372, 373, 374, 375, 376,\n",
              "       377, 378, 379, 380, 381, 382, 383, 384, 385, 386, 387, 388, 389,\n",
              "       390, 391, 392, 393, 394, 395, 396, 397, 398, 399, 400, 401, 402,\n",
              "       403, 404, 405, 406, 407, 408, 409, 410, 411, 412, 413, 414, 415])"
            ]
          },
          "metadata": {},
          "execution_count": 14
        }
      ]
    },
    {
      "cell_type": "code",
      "source": [
        "x_scaled = []\n",
        "for i in range(data.shape[1]-3):\n",
        "  d0 = date(int(data[0,1][0:4]), int(data[0,1][4:6]), int(data[0,1][6:8]))\n",
        "  d1 = date(int(data[0,i+1][0:4]), int(data[0,i+1][4:6]),  int(data[0,i+1][6:8]))\n",
        "  delta = d1 - d0\n",
        "  x_scaled.append(delta.days)\n",
        "\n",
        "x_scaled = np.array(x_scaled)"
      ],
      "metadata": {
        "id": "NV6IytT8DtyM"
      },
      "execution_count": null,
      "outputs": []
    },
    {
      "cell_type": "code",
      "source": [
        "x_scaled"
      ],
      "metadata": {
        "colab": {
          "base_uri": "https://localhost:8080/"
        },
        "id": "70dUGae2JIlt",
        "outputId": "d9a91f1f-b6fe-4b42-beb5-a713268a3ffb"
      },
      "execution_count": null,
      "outputs": [
        {
          "output_type": "execute_result",
          "data": {
            "text/plain": [
              "array([  0,   5,  10,  15,  20,  25,  30,  35,  50,  55,  70,  95, 100,\n",
              "       105, 110, 120, 145, 150, 165, 190, 215, 220, 225, 230, 235, 240,\n",
              "       245, 250, 255, 260, 265, 270, 275, 280, 285, 290, 295, 300, 305,\n",
              "       310, 315, 320, 325, 330, 340, 345, 350, 355, 360, 365, 370, 375,\n",
              "       380, 385, 390, 395, 400, 405, 410, 415, 425, 435, 440, 445, 450])"
            ]
          },
          "metadata": {},
          "execution_count": 166
        }
      ]
    },
    {
      "cell_type": "code",
      "source": [
        "datanew = data[50, 1:66].astype('float')\n",
        "where_is_nan = np.isnan(data[50, 1:66].astype('float'))\n",
        "datanew = datanew[~where_is_nan]\n",
        "x_scaled = x_scaled[~where_is_nan]\n",
        "max = 450\n",
        "min = 0\n",
        "X_std = (datanew - np.min(datanew)) / (np.max(datanew) - np.min(datanew))\n",
        "datanew = X_std * (max - min) + min"
      ],
      "metadata": {
        "id": "jherr6bTNAlm"
      },
      "execution_count": null,
      "outputs": []
    },
    {
      "cell_type": "code",
      "source": [
        "from scipy.interpolate import interp1d\n",
        "f = interp1d(x_scaled, datanew, kind = 'cubic')"
      ],
      "metadata": {
        "id": "H5pKenDIFQZd"
      },
      "execution_count": null,
      "outputs": []
    },
    {
      "cell_type": "code",
      "source": [
        "yy"
      ],
      "metadata": {
        "colab": {
          "base_uri": "https://localhost:8080/"
        },
        "id": "iXaLwjzZnWMS",
        "outputId": "b79974d5-0438-4269-b809-09614eebc7ca"
      },
      "execution_count": null,
      "outputs": [
        {
          "output_type": "execute_result",
          "data": {
            "text/plain": [
              "array([0.68767216, 0.59165619, 0.54051649, 0.52495103, 0.53565774,\n",
              "       0.56333459, 0.59867954, 0.63239052, 0.65516551, 0.65770244,\n",
              "       0.63069928, 0.56884997, 0.4828324 , 0.38732047, 0.29698806,\n",
              "       0.22650905, 0.18654059, 0.17167281, 0.17247909, 0.1795328 ,\n",
              "       0.18340734, 0.17692255, 0.16188413, 0.14234428, 0.12235516,\n",
              "       0.10596896, 0.09624375, 0.09226124, 0.09210901, 0.09387466,\n",
              "       0.09564579, 0.09590989, 0.09475405, 0.09266525, 0.09013047,\n",
              "       0.0876367 , 0.08558112, 0.08400177, 0.08284688, 0.0820647 ,\n",
              "       0.08160346, 0.08141139, 0.08143674, 0.08162774, 0.08193264,\n",
              "       0.08229966, 0.08267705, 0.08301305, 0.08325589, 0.0833538 ,\n",
              "       0.08325504, 0.08290941, 0.08227299, 0.08130347, 0.07995851,\n",
              "       0.07819576, 0.07600357, 0.07349288, 0.07080533, 0.06808253,\n",
              "       0.0654661 , 0.06309766, 0.06111884, 0.05967125, 0.05889652,\n",
              "       0.05893627, 0.0599321 , 0.06202566, 0.06535856, 0.07007241,\n",
              "       0.07630884, 0.08415255, 0.09346057, 0.10403299, 0.11566992,\n",
              "       0.12817145, 0.1413377 , 0.15496876, 0.16886474, 0.18282574,\n",
              "       0.19665186, 0.21014321, 0.22309988, 0.23532198, 0.24660961,\n",
              "       0.25676288, 0.26558188, 0.27286672, 0.2784175 , 0.28203433,\n",
              "       0.2835173 , 0.28266652, 0.27928209, 0.27316411, 0.26411269,\n",
              "       0.25192793, 0.23640992, 0.21735878, 0.19457461, 0.1678575 ,\n",
              "       0.13700756, 0.10262689, 0.06852549, 0.03931538, 0.01960858,\n",
              "       0.0140171 , 0.0254674 , 0.0501438 , 0.08254508, 0.11717001,\n",
              "       0.14851738, 0.17216892, 0.18803822, 0.19712182, 0.20041627,\n",
              "       0.19891812, 0.1936239 , 0.18553017, 0.17563347, 0.16493035,\n",
              "       0.15441735, 0.14491531, 0.13654223, 0.1292404 , 0.12295211,\n",
              "       0.11761966, 0.11318533, 0.10959141, 0.1067802 , 0.10469399,\n",
              "       0.10327507, 0.10246573, 0.10220826, 0.10244496, 0.1031181 ,\n",
              "       0.10416999, 0.10554292, 0.10717918, 0.10902105, 0.11101083,\n",
              "       0.11309081, 0.11520329, 0.11729055, 0.11929488, 0.12115858,\n",
              "       0.12282393, 0.12424079, 0.12538925, 0.12625696, 0.12683156,\n",
              "       0.12710072, 0.12706365, 0.12676596, 0.12626479, 0.12561733,\n",
              "       0.12488072, 0.12411215, 0.12336878, 0.12270777, 0.12218628,\n",
              "       0.1218615 , 0.12179058, 0.12203069, 0.12263899, 0.12367266,\n",
              "       0.12518885, 0.12722714, 0.12975667, 0.13272901, 0.13609571,\n",
              "       0.13980831, 0.14381837, 0.14807745, 0.1525371 , 0.15714888,\n",
              "       0.16186432, 0.166635  , 0.17141246, 0.17614826, 0.18079395,\n",
              "       0.18530108, 0.18962121, 0.19370589, 0.19750667, 0.20097511,\n",
              "       0.20406276, 0.20672118, 0.20890191, 0.21055652, 0.21163655,\n",
              "       0.21209355, 0.21189963, 0.21110899, 0.20979641, 0.20803664,\n",
              "       0.20590444, 0.20347457, 0.20082179, 0.19802087, 0.19514655,\n",
              "       0.19227361, 0.1894768 , 0.18683088, 0.18441061, 0.18229075,\n",
              "       0.18054607, 0.17925131, 0.17848125, 0.17831064, 0.17881423,\n",
              "       0.1800668 , 0.18214311, 0.1851179 , 0.18906594, 0.19406199,\n",
              "       0.20018082, 0.20736531, 0.21503087, 0.22246106, 0.22893941,\n",
              "       0.23374948, 0.23656581, 0.23862688, 0.2415622 , 0.24700125,\n",
              "       0.25657353, 0.27132651, 0.28997959, 0.31067016, 0.33153559,\n",
              "       0.35071326, 0.36669896, 0.37942204, 0.38917024, 0.39623131,\n",
              "       0.40089299, 0.40348577, 0.40451102, 0.40451286, 0.4040354 ,\n",
              "       0.40362276, 0.40381905, 0.40516839, 0.40821489, 0.41350266,\n",
              "       0.42157582, 0.43276998, 0.44658679, 0.46231939, 0.47926091,\n",
              "       0.49670449, 0.51383889, 0.52943531, 0.54216057, 0.55068148,\n",
              "       0.55366486, 0.55044708, 0.54304277, 0.53413614, 0.52641137,\n",
              "       0.52255267, 0.5243337 , 0.52988597, 0.53643049, 0.54118825,\n",
              "       0.54138025, 0.53495389, 0.52276228, 0.50638494, 0.48740138,\n",
              "       0.46739112, 0.44780937, 0.42961405, 0.41363876, 0.40071711,\n",
              "       0.3916827 , 0.38689489, 0.38481603, 0.38343424, 0.3807376 ,\n",
              "       0.37471424, 0.3640438 , 0.35017207, 0.3352364 , 0.32137414,\n",
              "       0.31072263, 0.30475281, 0.30227001, 0.30141316, 0.30032119,\n",
              "       0.29713303, 0.2904676 , 0.28086375, 0.26934036, 0.25691626,\n",
              "       0.24461032, 0.23330609, 0.223346  , 0.21493717, 0.20828672,\n",
              "       0.20360177, 0.20095171, 0.19985492, 0.19969203, 0.19984369,\n",
              "       0.19969053, 0.19874667, 0.19706014, 0.19481244, 0.19218508,\n",
              "       0.18935958, 0.18652954, 0.18393703, 0.18183621, 0.18048124,\n",
              "       0.18012628, 0.18086155, 0.18212141, 0.18317626, 0.18329652,\n",
              "       0.18175259, 0.17807798, 0.17285864, 0.16694364, 0.16118202,\n",
              "       0.15642284, 0.15329818, 0.15157221, 0.15079213, 0.15050512,\n",
              "       0.15025837, 0.14969752, 0.14886195, 0.14788945, 0.14691786,\n",
              "       0.14608497, 0.1455286 , 0.14538657, 0.14579668, 0.14689675,\n",
              "       0.14882459, 0.15159952, 0.15476685, 0.15775341, 0.15998601,\n",
              "       0.16089149, 0.16008106, 0.15790356, 0.15489222, 0.15158029,\n",
              "       0.14850099, 0.14607524, 0.14427454, 0.14295809, 0.14198507,\n",
              "       0.14121466, 0.14054079, 0.13999638, 0.1396491 , 0.13956662,\n",
              "       0.1398166 , 0.14042933, 0.14128554, 0.14222857, 0.14310175,\n",
              "       0.14374843, 0.14405195, 0.14405559, 0.14384264, 0.14349637,\n",
              "       0.14310008, 0.1427067 , 0.14224779, 0.14162459, 0.14073832,\n",
              "       0.13949021, 0.1378228 , 0.13584395, 0.13370282, 0.1315486 ,\n",
              "       0.12953045, 0.12775674, 0.12617261, 0.12468239, 0.12319042,\n",
              "       0.12160102, 0.11982855, 0.1178275 , 0.11556238, 0.11299769,\n",
              "       0.11009796, 0.1068738 , 0.10352031, 0.10027871, 0.0973902 ,\n",
              "       0.09509601, 0.09354453, 0.09251293, 0.09168556, 0.09074677,\n",
              "       0.08938093, 0.08741535, 0.08524922, 0.08342469, 0.08248392,\n",
              "       0.08296907, 0.0851914 , 0.08853864, 0.09216763, 0.09523522,\n",
              "       0.09689823, 0.09655003, 0.09452995, 0.09141384, 0.08777756,\n",
              "       0.08419696, 0.08114959, 0.07871981, 0.07689369, 0.07565729,\n",
              "       0.07499668, 0.0748979 , 0.07534704, 0.07633016, 0.07783331,\n",
              "       0.07984256, 0.08231013, 0.08505283, 0.08785366, 0.09049558,\n",
              "       0.09276157, 0.09443461, 0.09529767, 0.09513374, 0.09372578,\n",
              "       0.09085677, 0.08641114, 0.08067905, 0.07405211, 0.06692194,\n",
              "       0.05968015, 0.05271835, 0.04642814, 0.04120115, 0.03742899,\n",
              "       0.03550325, 0.03581557, 0.03875755, 0.04472079, 0.05409692,\n",
              "       0.06727754])"
            ]
          },
          "metadata": {},
          "execution_count": 214
        }
      ]
    },
    {
      "cell_type": "code",
      "source": [
        "y = f(x)\n",
        "\n"
      ],
      "metadata": {
        "id": "sibMWG_lPTMd"
      },
      "execution_count": null,
      "outputs": []
    },
    {
      "cell_type": "code",
      "source": [
        "y"
      ],
      "metadata": {
        "colab": {
          "base_uri": "https://localhost:8080/"
        },
        "id": "KGxaiJsSoD_p",
        "outputId": "8e78d56b-a8e2-4e7d-b236-9738eda5584c"
      },
      "execution_count": null,
      "outputs": [
        {
          "output_type": "execute_result",
          "data": {
            "text/plain": [
              "array([ 2.66415967e+01,  3.18621305e+01,  3.53078127e+01,  3.72222562e+01,\n",
              "        3.78490737e+01,  3.74318782e+01,  3.62142825e+01,  3.44398995e+01,\n",
              "        3.23523419e+01,  3.01952228e+01,  2.82121549e+01,  2.66286794e+01,\n",
              "        2.55980512e+01,  2.52554534e+01,  2.57360693e+01,  2.71750819e+01,\n",
              "        2.95845263e+01,  3.24838447e+01,  3.52693312e+01,  3.73372798e+01,\n",
              "        3.80839846e+01,  3.71037178e+01,  3.47826647e+01,  3.17049886e+01,\n",
              "        2.84548530e+01,  2.56164212e+01,  2.36326584e+01,  2.23817368e+01,\n",
              "        2.16006306e+01,  2.10263136e+01,  2.03957599e+01,  1.95083620e+01,\n",
              "        1.84131859e+01,  1.72217161e+01,  1.60454371e+01,  1.49958335e+01,\n",
              "        1.41612038e+01,  1.35371030e+01,  1.30959002e+01,  1.28099645e+01,\n",
              "        1.26516650e+01,  1.25933708e+01,  1.26074510e+01,  1.26662746e+01,\n",
              "        1.27422109e+01,  1.28076288e+01,  1.28348975e+01,  1.27963860e+01,\n",
              "        1.26644635e+01,  1.24114990e+01,  1.20098617e+01,  1.14430017e+01,\n",
              "        1.07386935e+01,  9.93579282e+00,  9.07315518e+00,  8.18963621e+00,\n",
              "        7.31990502e+00,  6.48188464e+00,  5.68931160e+00,  4.95592245e+00,\n",
              "        4.29545369e+00,  3.72164187e+00,  3.24822352e+00,  2.88893517e+00,\n",
              "        2.65751334e+00,  2.56769457e+00,  2.63321539e+00,  2.86781232e+00,\n",
              "        3.28522190e+00,  3.89918067e+00,  4.72342514e+00,  5.76765387e+00,\n",
              "        7.02541353e+00,  8.48621278e+00,  1.01395603e+01,  1.19749648e+01,\n",
              "        1.39819349e+01,  1.61499793e+01,  1.84686067e+01,  2.09273258e+01,\n",
              "        2.35156452e+01,  2.62230736e+01,  2.90391198e+01,  3.19532923e+01,\n",
              "        3.49550999e+01,  3.80340512e+01,  4.11796549e+01,  4.43814198e+01,\n",
              "        4.76288544e+01,  5.09114674e+01,  5.42187676e+01,  5.75402636e+01,\n",
              "        6.08654640e+01,  6.41838777e+01,  6.74850132e+01,  7.07583791e+01,\n",
              "        7.39934843e+01,  7.71798374e+01,  8.03069470e+01,  8.33643219e+01,\n",
              "        8.63414707e+01,  8.92270269e+01,  9.20061234e+01,  9.46630179e+01,\n",
              "        9.71819682e+01,  9.95472320e+01,  1.01743067e+02,  1.03753731e+02,\n",
              "        1.05563481e+02,  1.07156576e+02,  1.08517273e+02,  1.09631217e+02,\n",
              "        1.10489599e+02,  1.11085000e+02,  1.11409997e+02,  1.11457169e+02,\n",
              "        1.11219096e+02,  1.10688357e+02,  1.09857530e+02,  1.08719194e+02,\n",
              "        1.07265929e+02,  1.05496363e+02,  1.03433319e+02,  1.01105670e+02,\n",
              "        9.85422910e+01,  9.57720537e+01,  9.28238315e+01,  8.97264978e+01,\n",
              "        8.65089256e+01,  8.31999881e+01,  7.98285586e+01,  7.64235101e+01,\n",
              "        7.30137158e+01,  6.96280490e+01,  6.62953828e+01,  6.30445903e+01,\n",
              "        5.99045448e+01,  5.69041193e+01,  5.40721871e+01,  5.14376214e+01,\n",
              "        4.90292952e+01,  4.68760818e+01,  4.50068544e+01,  4.34504861e+01,\n",
              "        4.22358500e+01,  4.13918195e+01,  4.09228432e+01,  4.07356729e+01,\n",
              "        4.07126360e+01,  4.07360597e+01,  4.06882715e+01,  4.04787497e+01,\n",
              "        4.01255767e+01,  3.96739860e+01,  3.91692109e+01,  3.86564849e+01,\n",
              "        3.81810414e+01,  3.77881138e+01,  3.75229355e+01,  3.74307400e+01,\n",
              "        3.75567607e+01,  3.79462309e+01,  3.86443842e+01,  3.96964539e+01,\n",
              "        4.11476734e+01,  4.30432762e+01,  4.54141683e+01,  4.82339462e+01,\n",
              "        5.14618789e+01,  5.50572354e+01,  5.89792849e+01,  6.31872964e+01,\n",
              "        6.76405390e+01,  7.22982818e+01,  7.71197938e+01,  8.20643440e+01,\n",
              "        8.70912016e+01,  9.21596356e+01,  9.72289151e+01,  1.02258309e+02,\n",
              "        1.07207087e+02,  1.12034517e+02,  1.16699869e+02,  1.21162412e+02,\n",
              "        1.25381415e+02,  1.29316146e+02,  1.32925876e+02,  1.36169873e+02,\n",
              "        1.39007406e+02,  1.41397744e+02,  1.43300156e+02,  1.44694242e+02,\n",
              "        1.45640920e+02,  1.46221440e+02,  1.46517050e+02,  1.46608999e+02,\n",
              "        1.46578538e+02,  1.46506913e+02,  1.46475376e+02,  1.46565174e+02,\n",
              "        1.46857558e+02,  1.47433775e+02,  1.48375075e+02,  1.49762707e+02,\n",
              "        1.51677920e+02,  1.54201963e+02,  1.57416086e+02,  1.61401536e+02,\n",
              "        1.66239564e+02,  1.72011418e+02,  1.78798348e+02,  1.86681602e+02,\n",
              "        1.95742429e+02,  2.06062079e+02,  2.17721801e+02,  2.30802843e+02,\n",
              "        2.45117506e+02,  2.59402294e+02,  2.72124762e+02,  2.81752466e+02,\n",
              "        2.86752961e+02,  2.86341021e+02,  2.82720297e+02,  2.78841660e+02,\n",
              "        2.77655980e+02,  2.82114126e+02,  2.94163397e+02,  3.11736797e+02,\n",
              "        3.31763762e+02,  3.51173723e+02,  3.66896114e+02,  3.76705801e+02,\n",
              "        3.81759383e+02,  3.84058890e+02,  3.85606354e+02,  3.88403806e+02,\n",
              "        3.93715263e+02,  3.99852683e+02,  4.04390010e+02,  4.04901186e+02,\n",
              "        3.98960157e+02,  3.85267192e+02,  3.67027866e+02,  3.48574079e+02,\n",
              "        3.34237732e+02,  3.28350728e+02,  3.33913756e+02,  3.48602672e+02,\n",
              "        3.68762117e+02,  3.90736737e+02,  4.10871174e+02,  4.26262048e+02,\n",
              "        4.37013875e+02,  4.43983148e+02,  4.48026359e+02,  4.50000000e+02,\n",
              "        4.50641982e+02,  4.50215896e+02,  4.48866753e+02,  4.46739561e+02,\n",
              "        4.43979332e+02,  4.40785422e+02,  4.37574571e+02,  4.34817866e+02,\n",
              "        4.32986393e+02,  4.32551239e+02,  4.33603338e+02,  4.34713013e+02,\n",
              "        4.34070433e+02,  4.29865770e+02,  4.20289193e+02,  4.04182485e+02,\n",
              "        3.82993886e+02,  3.58823246e+02,  3.33770417e+02,  3.09935251e+02,\n",
              "        2.88922839e+02,  2.70359227e+02,  2.53375701e+02,  2.37103550e+02,\n",
              "        2.20674057e+02,  2.03499003e+02,  1.86112129e+02,  1.69327672e+02,\n",
              "        1.53959867e+02,  1.40822950e+02,  1.30521292e+02,  1.22819813e+02,\n",
              "        1.17273571e+02,  1.13437621e+02,  1.10867021e+02,  1.09081075e+02,\n",
              "        1.07456082e+02,  1.05332587e+02,  1.02051138e+02,  9.69522813e+01,\n",
              "        8.96726023e+01,  8.10328467e+01,  7.21497998e+01,  6.41402468e+01,\n",
              "        5.81209728e+01,  5.48947935e+01,  5.40086466e+01,  5.46955001e+01,\n",
              "        5.61883220e+01,  5.77200804e+01,  5.86116177e+01,  5.85352744e+01,\n",
              "        5.72512651e+01,  5.45198047e+01,  5.01011079e+01,  4.39474649e+01,\n",
              "        3.67794680e+01,  2.95097848e+01,  2.30510829e+01,  1.83160301e+01,\n",
              "        1.59391086e+01,  1.54420590e+01,  1.60684365e+01,  1.70617964e+01,\n",
              "        1.76656938e+01,  1.73197207e+01,  1.62476154e+01,  1.48691528e+01,\n",
              "        1.36041081e+01,  1.28722562e+01,  1.29750451e+01,  1.37406150e+01,\n",
              "        1.48787792e+01,  1.60993509e+01,  1.71121433e+01,  1.76907354e+01,\n",
              "        1.78637693e+01,  1.77236532e+01,  1.73627950e+01,  1.68736026e+01,\n",
              "        1.63484840e+01,  1.58798473e+01,  1.55601004e+01,  1.54816513e+01,\n",
              "        1.57369080e+01,  1.63744704e+01,  1.72677063e+01,  1.82461754e+01,\n",
              "        1.91394373e+01,  1.97770518e+01,  2.00238698e+01,  1.98859074e+01,\n",
              "        1.94044720e+01,  1.86208708e+01,  1.75764112e+01,  1.63359702e+01,\n",
              "        1.50587029e+01,  1.39273344e+01,  1.31245894e+01,  1.28331928e+01,\n",
              "        1.31687329e+01,  1.39782522e+01,  1.50416563e+01,  1.61388512e+01,\n",
              "        1.70497426e+01,  1.76138130e+01,  1.79088511e+01,  1.80722220e+01,\n",
              "        1.82412912e+01,  1.85534238e+01,  1.90965922e+01,  1.97611973e+01,\n",
              "        2.03882468e+01,  2.08187487e+01,  2.08937108e+01,  2.05155214e+01,\n",
              "        1.98320902e+01,  1.90527071e+01,  1.83866624e+01,  1.80432460e+01,\n",
              "        1.81599452e+01,  1.85870358e+01,  1.91029910e+01,  1.94862837e+01,\n",
              "        1.95153870e+01,  1.90379288e+01,  1.81781566e+01,  1.71294727e+01,\n",
              "        1.60852793e+01,  1.52389787e+01,  1.47268878e+01,  1.44569817e+01,\n",
              "        1.42801499e+01,  1.40472821e+01,  1.36092680e+01,  1.28644262e+01,\n",
              "        1.19007919e+01,  1.08538294e+01,  9.85900286e+00,  9.05177654e+00,\n",
              "        8.51248285e+00,  8.10092690e+00,  7.62178198e+00,  6.87972138e+00,\n",
              "        5.67941837e+00,  3.93780358e+00,  2.02083700e+00,  4.06735992e-01,\n",
              "       -4.26282123e-01,  8.88178420e-16,  1.96492660e+00,  4.95234955e+00,\n",
              "        8.24724760e+00,  1.11345995e+01,  1.28993841e+01,  1.30336415e+01,\n",
              "        1.18576575e+01,  9.89877935e+00,  7.68435431e+00,  5.74172959e+00,\n",
              "        4.49262345e+00,  3.93623835e+00,  3.96614779e+00,  4.47592526e+00,\n",
              "        5.35914425e+00,  6.50937827e+00,  7.82020079e+00,  9.18518532e+00,\n",
              "        1.04979054e+01,  1.16519344e+01,  1.25628009e+01,  1.32338531e+01,\n",
              "        1.36903944e+01,  1.39577280e+01,  1.40611572e+01,  1.40259852e+01,\n",
              "        1.38775154e+01,  1.36410509e+01,  1.33418952e+01,  1.30053513e+01,\n",
              "        1.26567227e+01,  1.23213126e+01,  1.20244242e+01,  1.17913609e+01,\n",
              "        1.16474258e+01,  1.16179224e+01,  1.17281538e+01,  1.20034233e+01,\n",
              "        1.24690342e+01,  1.31502897e+01,  1.40724932e+01,  1.52609479e+01,\n",
              "        1.67409571e+01,  1.85378241e+01,  2.06768521e+01])"
            ]
          },
          "metadata": {},
          "execution_count": 171
        }
      ]
    },
    {
      "cell_type": "code",
      "source": [
        "plt.plot(x, y, x_scaled, datanew, 'r')"
      ],
      "metadata": {
        "colab": {
          "base_uri": "https://localhost:8080/",
          "height": 300
        },
        "id": "00mC53B3PbcU",
        "outputId": "85e8cfc5-c469-466b-8220-c51a60aad546"
      },
      "execution_count": null,
      "outputs": [
        {
          "output_type": "execute_result",
          "data": {
            "text/plain": [
              "[<matplotlib.lines.Line2D at 0x7fe52a3ff090>,\n",
              " <matplotlib.lines.Line2D at 0x7fe52a3ff310>]"
            ]
          },
          "metadata": {},
          "execution_count": 216
        },
        {
          "output_type": "display_data",
          "data": {
            "image/png": "[encoded data removed]",
            "text/plain": [
              "<Figure size 432x288 with 1 Axes>"
            ]
          },
          "metadata": {
            "needs_background": "light"
          }
        }
      ]
    },
    {
      "cell_type": "code",
      "source": [
        "from scipy.misc import derivative\n",
        "first_der = derivative(f, x[1:-1], dx=1e-6, n = 1)\n",
        "sec_der = derivative(f, x[2:-2], dx=1e-6, n = 2)\n",
        "\n",
        "plt.plot(x[1:-1], first_der, x[2:-2], sec_der, 'r')\n",
        "# plt.plot(x[2:-2], sec_der)"
      ],
      "metadata": {
        "colab": {
          "base_uri": "https://localhost:8080/",
          "height": 300
        },
        "id": "vgS_bcTaUXyg",
        "outputId": "64ed6f18-6e92-4e1c-a591-e3f1ce489630"
      },
      "execution_count": null,
      "outputs": [
        {
          "output_type": "execute_result",
          "data": {
            "text/plain": [
              "[<matplotlib.lines.Line2D at 0x7fe52a35eb10>,\n",
              " <matplotlib.lines.Line2D at 0x7fe52a35ed90>]"
            ]
          },
          "metadata": {},
          "execution_count": 217
        },
        {
          "output_type": "display_data",
          "data": {
            "image/png": "[encoded data removed]",
            "text/plain": [
              "<Figure size 432x288 with 1 Axes>"
            ]
          },
          "metadata": {
            "needs_background": "light"
          }
        }
      ]
    },
    {
      "cell_type": "code",
      "source": [
        "max_argument = np.argmax(y)\n",
        "\n",
        "Th_first_der = 0.1\n",
        "Th_ndvi1 = 100\n",
        "Th_ndvi2 = 80\n",
        "\n",
        "id1 = np.where(abs(first_der[max_argument:]) < Th_first_der)\n",
        "id2 = np.where(sec_der[max_argument:] > 0)\n",
        "id3 = np.where(y[max_argument:] < Th_ndvi1)\n",
        "\n",
        "id4 = np.where(abs(first_der[:max_argument]) < Th_first_der)\n",
        "id5 = np.where(sec_der[:max_argument] > 0)\n",
        "id6 = np.where(y[:max_argument] < Th_ndvi2)"
      ],
      "metadata": {
        "id": "-8wvjDYJV8zB"
      },
      "execution_count": null,
      "outputs": []
    },
    {
      "cell_type": "code",
      "source": [
        "id6"
      ],
      "metadata": {
        "colab": {
          "base_uri": "https://localhost:8080/"
        },
        "id": "_A2EeG7ujzAJ",
        "outputId": "9165a338-9f12-4192-c86a-3baf2ebfe16e"
      },
      "execution_count": null,
      "outputs": [
        {
          "output_type": "execute_result",
          "data": {
            "text/plain": [
              "(array([], dtype=int64),)"
            ]
          },
          "metadata": {},
          "execution_count": 201
        }
      ]
    },
    {
      "cell_type": "code",
      "source": [
        "from functools import reduce\n",
        "harvesttime = reduce(np.intersect1d, (id1, id2, id3))[0] + max_argument\n",
        "harvesttime\n",
        "kahsttime = reduce(np.intersect1d, (id4, id5, id6))[-1]\n",
        "kahsttime"
      ],
      "metadata": {
        "colab": {
          "base_uri": "https://localhost:8080/",
          "height": 217
        },
        "id": "2t1oxEqVZnyu",
        "outputId": "7fbfc4a1-040b-4de0-d947-77538bfb6de9"
      },
      "execution_count": null,
      "outputs": [
        {
          "output_type": "error",
          "ename": "IndexError",
          "evalue": "ignored",
          "traceback": [
            "\u001b[0;31m---------------------------------------------------------------------------\u001b[0m",
            "\u001b[0;31mIndexError\u001b[0m                                Traceback (most recent call last)",
            "\u001b[0;32m<ipython-input-219-52320f9cd62e>\u001b[0m in \u001b[0;36m<module>\u001b[0;34m()\u001b[0m\n\u001b[1;32m      2\u001b[0m \u001b[0mharvesttime\u001b[0m \u001b[0;34m=\u001b[0m \u001b[0mreduce\u001b[0m\u001b[0;34m(\u001b[0m\u001b[0mnp\u001b[0m\u001b[0;34m.\u001b[0m\u001b[0mintersect1d\u001b[0m\u001b[0;34m,\u001b[0m \u001b[0;34m(\u001b[0m\u001b[0mid1\u001b[0m\u001b[0;34m,\u001b[0m \u001b[0mid2\u001b[0m\u001b[0;34m,\u001b[0m \u001b[0mid3\u001b[0m\u001b[0;34m)\u001b[0m\u001b[0;34m)\u001b[0m\u001b[0;34m[\u001b[0m\u001b[0;36m0\u001b[0m\u001b[0;34m]\u001b[0m \u001b[0;34m+\u001b[0m \u001b[0mmax_argument\u001b[0m\u001b[0;34m\u001b[0m\u001b[0;34m\u001b[0m\u001b[0m\n\u001b[1;32m      3\u001b[0m \u001b[0mharvesttime\u001b[0m\u001b[0;34m\u001b[0m\u001b[0;34m\u001b[0m\u001b[0m\n\u001b[0;32m----> 4\u001b[0;31m \u001b[0mkahsttime\u001b[0m \u001b[0;34m=\u001b[0m \u001b[0mreduce\u001b[0m\u001b[0;34m(\u001b[0m\u001b[0mnp\u001b[0m\u001b[0;34m.\u001b[0m\u001b[0mintersect1d\u001b[0m\u001b[0;34m,\u001b[0m \u001b[0;34m(\u001b[0m\u001b[0mid4\u001b[0m\u001b[0;34m,\u001b[0m \u001b[0mid5\u001b[0m\u001b[0;34m,\u001b[0m \u001b[0mid6\u001b[0m\u001b[0;34m)\u001b[0m\u001b[0;34m)\u001b[0m\u001b[0;34m[\u001b[0m\u001b[0;34m-\u001b[0m\u001b[0;36m1\u001b[0m\u001b[0;34m]\u001b[0m\u001b[0;34m\u001b[0m\u001b[0;34m\u001b[0m\u001b[0m\n\u001b[0m\u001b[1;32m      5\u001b[0m \u001b[0mkahsttime\u001b[0m\u001b[0;34m\u001b[0m\u001b[0;34m\u001b[0m\u001b[0m\n",
            "\u001b[0;31mIndexError\u001b[0m: index -1 is out of bounds for axis 0 with size 0"
          ]
        }
      ]
    },
    {
      "cell_type": "code",
      "source": [
        "first_der[kahsttime]"
      ],
      "metadata": {
        "colab": {
          "base_uri": "https://localhost:8080/"
        },
        "id": "TxGvGvaSfj2A",
        "outputId": "7f822ef6-96e8-4978-ecf2-f73f856ac59c"
      },
      "execution_count": null,
      "outputs": [
        {
          "output_type": "execute_result",
          "data": {
            "text/plain": [
              "0.0007195261886305815"
            ]
          },
          "metadata": {},
          "execution_count": 33
        }
      ]
    },
    {
      "cell_type": "code",
      "source": [
        "\n",
        "plt.scatter(harvesttime, y[harvesttime])\n",
        "plt.scatter(kahsttime, y[kahsttime])\n",
        "plt.plot(x, y)"
      ],
      "metadata": {
        "colab": {
          "base_uri": "https://localhost:8080/",
          "height": 282
        },
        "id": "ELNIPcZ_ZI2A",
        "outputId": "62c7773e-027c-4a93-e2d7-fda5415bed7e"
      },
      "execution_count": null,
      "outputs": [
        {
          "output_type": "execute_result",
          "data": {
            "text/plain": [
              "[<matplotlib.lines.Line2D at 0x7fe52a4964d0>]"
            ]
          },
          "metadata": {},
          "execution_count": 210
        },
        {
          "output_type": "display_data",
          "data": {
            "image/png": "[encoded data removed]",
            "text/plain": [
              "<Figure size 432x288 with 1 Axes>"
            ]
          },
          "metadata": {
            "needs_background": "light"
          }
        }
      ]
    },
    {
      "cell_type": "code",
      "source": [
        "id2"
      ],
      "metadata": {
        "colab": {
          "base_uri": "https://localhost:8080/"
        },
        "id": "x_0_F-sVXgbn",
        "outputId": "a7250598-682d-4400-913e-8f99fa0ac243"
      },
      "execution_count": null,
      "outputs": [
        {
          "output_type": "execute_result",
          "data": {
            "text/plain": [
              "(array([  1,   2,   3,   4,   5,   6,   7,   8,   9,  17,  18,  19,  20,\n",
              "         21,  22,  31,  32,  33,  34,  42,  43,  44,  45,  46,  47,  48,\n",
              "         49,  50,  51,  52,  54,  55,  56,  57,  58,  59,  60,  66,  67,\n",
              "         68,  69,  70,  71,  72,  81,  82,  83,  84,  85,  86,  87,  88,\n",
              "         89,  90,  91, 101, 102, 103, 104, 105, 111, 112, 113, 114, 115,\n",
              "        116, 122, 123, 124, 130, 131, 132, 133, 134, 141, 142, 143, 144,\n",
              "        145, 151, 152, 153, 154, 160, 161, 162, 163, 164, 165, 172, 173,\n",
              "        174, 175, 176, 177, 178, 179, 180, 181, 182, 183, 184, 185, 198,\n",
              "        199, 200, 201, 202, 203, 204, 205, 206]),)"
            ]
          },
          "metadata": {},
          "execution_count": 41
        }
      ]
    },
    {
      "cell_type": "code",
      "source": [
        "id3"
      ],
      "metadata": {
        "colab": {
          "base_uri": "https://localhost:8080/"
        },
        "id": "FOtYvSUzUyA_",
        "outputId": "e8136901-bb34-4ab3-f065-fbc56fa68054"
      },
      "execution_count": null,
      "outputs": [
        {
          "output_type": "execute_result",
          "data": {
            "text/plain": [
              "(array([ 58,  59,  60,  61,  62,  63,  64,  65,  66,  67,  68,  69,  70,\n",
              "         71,  72,  73,  74,  75,  76,  77,  78,  79,  80,  81,  82,  83,\n",
              "         84,  85,  86,  87,  88,  89,  90,  91,  92,  93,  94,  95,  96,\n",
              "         97,  98,  99, 100, 101, 102, 103, 104, 105, 106, 107, 108, 109,\n",
              "        110, 111, 112, 113, 114, 115, 116, 117, 118, 119, 120, 121, 122,\n",
              "        123, 124, 125, 126, 127, 128, 129, 130, 131, 132, 133, 134, 135,\n",
              "        136, 137, 138, 139, 140, 141, 142, 143, 144, 145, 146, 147, 148,\n",
              "        149, 150, 151, 152, 153, 154, 155, 156, 157, 158, 159, 160, 161,\n",
              "        162, 163, 164, 165, 166, 167, 168, 169, 170, 171, 172, 173, 174,\n",
              "        175, 176, 177, 178, 179, 180, 181, 182, 183, 184, 185, 186, 187,\n",
              "        188, 189, 190, 191, 192, 193, 194, 195, 196, 197, 198, 199, 200,\n",
              "        201, 202, 203, 204, 205, 206, 207, 208, 209, 210]),)"
            ]
          },
          "metadata": {},
          "execution_count": 42
        }
      ]
    },
    {
      "cell_type": "code",
      "source": [
        "from scipy.interpolate import UnivariateSpline\n",
        "f = UnivariateSpline(x_scaled, datanew)"
      ],
      "metadata": {
        "id": "Fdj5T7XiFq4s"
      },
      "execution_count": null,
      "outputs": []
    },
    {
      "cell_type": "code",
      "source": [
        "from scipy.interpolate import splev, splrep\n",
        "f = splrep(x_scaled, datanew)\n",
        "y = splev(x, f)\n",
        "y"
      ],
      "metadata": {
        "colab": {
          "base_uri": "https://localhost:8080/"
        },
        "id": "dO4e0uQpLB1X",
        "outputId": "96bd8a72-3e16-40c0-a1f3-5d8216647556"
      },
      "execution_count": null,
      "outputs": [
        {
          "output_type": "execute_result",
          "data": {
            "text/plain": [
              "array([nan, nan, nan, nan, nan, nan, nan, nan, nan, nan, nan, nan, nan,\n",
              "       nan, nan, nan, nan, nan, nan, nan, nan, nan, nan, nan, nan, nan,\n",
              "       nan, nan, nan, nan, nan, nan, nan, nan, nan, nan, nan, nan, nan,\n",
              "       nan, nan, nan, nan, nan, nan, nan, nan, nan, nan, nan, nan, nan,\n",
              "       nan, nan, nan, nan, nan, nan, nan, nan, nan, nan, nan, nan, nan,\n",
              "       nan, nan, nan, nan, nan, nan, nan, nan, nan, nan, nan, nan, nan,\n",
              "       nan, nan, nan, nan, nan, nan, nan, nan, nan, nan, nan, nan, nan,\n",
              "       nan, nan, nan, nan, nan, nan, nan, nan, nan, nan, nan, nan, nan,\n",
              "       nan, nan, nan, nan, nan, nan, nan, nan, nan, nan, nan, nan, nan,\n",
              "       nan, nan, nan, nan, nan, nan, nan, nan, nan, nan, nan, nan, nan,\n",
              "       nan, nan, nan, nan, nan, nan, nan, nan, nan, nan, nan, nan, nan,\n",
              "       nan, nan, nan, nan, nan, nan, nan, nan, nan, nan, nan, nan, nan,\n",
              "       nan, nan, nan, nan, nan, nan, nan, nan, nan, nan, nan, nan, nan,\n",
              "       nan, nan, nan, nan, nan, nan, nan, nan, nan, nan, nan, nan, nan,\n",
              "       nan, nan, nan, nan, nan, nan, nan, nan, nan, nan, nan, nan, nan,\n",
              "       nan, nan, nan, nan, nan, nan, nan, nan, nan, nan, nan, nan, nan,\n",
              "       nan, nan, nan, nan, nan, nan, nan, nan, nan, nan, nan, nan, nan,\n",
              "       nan, nan, nan, nan, nan, nan, nan, nan, nan, nan, nan, nan, nan,\n",
              "       nan, nan, nan, nan, nan, nan, nan, nan, nan, nan, nan, nan, nan,\n",
              "       nan, nan, nan, nan, nan, nan, nan, nan, nan, nan, nan, nan, nan,\n",
              "       nan, nan, nan, nan, nan, nan, nan, nan, nan, nan, nan, nan, nan,\n",
              "       nan, nan, nan, nan, nan, nan, nan, nan, nan, nan, nan, nan, nan,\n",
              "       nan, nan, nan, nan, nan, nan, nan, nan, nan, nan, nan, nan, nan,\n",
              "       nan, nan, nan, nan, nan, nan, nan, nan, nan, nan, nan, nan, nan,\n",
              "       nan, nan, nan, nan, nan, nan, nan, nan, nan, nan, nan, nan, nan,\n",
              "       nan, nan, nan, nan, nan, nan, nan, nan, nan, nan, nan, nan, nan,\n",
              "       nan, nan, nan, nan, nan, nan, nan, nan, nan, nan, nan, nan, nan,\n",
              "       nan, nan, nan, nan, nan, nan, nan, nan, nan, nan, nan, nan, nan,\n",
              "       nan, nan, nan, nan, nan, nan, nan, nan, nan, nan, nan, nan, nan,\n",
              "       nan, nan, nan, nan, nan, nan, nan, nan, nan, nan, nan, nan, nan,\n",
              "       nan, nan, nan, nan, nan, nan, nan, nan, nan, nan, nan, nan, nan,\n",
              "       nan, nan, nan, nan, nan, nan, nan, nan, nan, nan, nan, nan, nan,\n",
              "       nan, nan, nan, nan, nan, nan, nan, nan, nan, nan, nan, nan, nan,\n",
              "       nan, nan, nan, nan, nan, nan, nan, nan, nan, nan, nan, nan, nan,\n",
              "       nan, nan, nan, nan, nan, nan, nan, nan, nan])"
            ]
          },
          "metadata": {},
          "execution_count": 23
        }
      ]
    },
    {
      "cell_type": "code",
      "source": [
        "from scipy.interpolate import CubicSpline\n",
        "f = CubicSpline(x_scaled, data[1, 1:66])"
      ],
      "metadata": {
        "id": "_GAUbZsJMveO"
      },
      "execution_count": null,
      "outputs": []
    },
    {
      "cell_type": "code",
      "source": [
        ""
      ],
      "metadata": {
        "id": "bCD8i_0gFR_n"
      },
      "execution_count": null,
      "outputs": []
    },
    {
      "cell_type": "code",
      "source": [
        "plt.plot(x, y)"
      ],
      "metadata": {
        "colab": {
          "base_uri": "https://localhost:8080/",
          "height": 282
        },
        "id": "FYOEDWt3GU39",
        "outputId": "93bc2f30-15e9-4426-aaa3-aae037750937"
      },
      "execution_count": null,
      "outputs": [
        {
          "output_type": "execute_result",
          "data": {
            "text/plain": [
              "[<matplotlib.lines.Line2D at 0x7ff4f168c050>]"
            ]
          },
          "metadata": {},
          "execution_count": 17
        },
        {
          "output_type": "display_data",
          "data": {
            "image/png": "[encoded data removed]",
            "text/plain": [
              "<Figure size 432x288 with 1 Axes>"
            ]
          },
          "metadata": {
            "needs_background": "light"
          }
        }
      ]
    },
    {
      "cell_type": "code",
      "source": [
        ""
      ],
      "metadata": {
        "id": "pEoCaIipFVlU"
      },
      "execution_count": null,
      "outputs": []
    }
  ]
}